{
 "cells": [
  {
   "cell_type": "markdown",
   "metadata": {},
   "source": [
    "# Data Visualization Project - Ironhack"
   ]
  },
  {
   "cell_type": "markdown",
   "metadata": {},
   "source": [
    "The dataset (netflix_titles.csv) contains information concerning TV Shows and Movies added to the Netflix catalog, including:\n",
    "\n",
    "General information: id, title, type (TV Show or Movie), director, cast and a brief description.\n",
    "Date fields: When the show was released and when it was added to the catalog.\n",
    "Categorization: Rating and category in which the show is listed.\n",
    "    \n",
    "In the present notebook I am going to analize the relation between \n",
    "I go through some wrangling, and some exploratory analysis as well, gaining insight of the kind of content available in the Netflix and how the nature of the content has changed (if it changed at all) through the years."
   ]
  },
  {
   "cell_type": "code",
   "execution_count": 12,
   "metadata": {},
   "outputs": [],
   "source": [
    "#Explicacion data "
   ]
  },
  {
   "cell_type": "code",
   "execution_count": 13,
   "metadata": {},
   "outputs": [],
   "source": [
    "#The UIS is the only statistical agency to provide a global perspective on the world’s most lucrative cultural industry and one of the most popular cultural practices – movie-watching. Demand for data has never been greater as digital technology transforms the ways in which films are produced, distributed and consumed by audiences in theatres and homes.  \n",
    "\n",
    "#The Institute conducts a biennial survey on feature film and cinema statistics to monitor global trends in selected areas of this industry. This is the only international survey to include countries in all regions and at all stages of development – from Hollywood to Bollywood and Nollywood. It uses comparable definitions to collect data on a range of issues, including the Top 10 films viewed per country; linguistic diversity in film production; admissions; national versus international co-productions per country; and distribution mechanisms.\n",
    "\n",
    "#The survey provides a unique perspective on how different countries and regions are transforming traditional approaches to the art and industry of film-making. The data can be used to track trends in consumption, for example, by looking at the origins of films viewed versus the most popular films, based on attendance. The data also reflect issues related to cinema infrastructure and access, as reflected by the numbers of indoor cinemas and average ticket prices per capita.  "
   ]
  },
  {
   "cell_type": "code",
   "execution_count": null,
   "metadata": {},
   "outputs": [],
   "source": [
    "#Trends in movie production reflected in the example of Netflix"
   ]
  },
  {
   "cell_type": "markdown",
   "metadata": {},
   "source": [
    "## Loading data"
   ]
  },
  {
   "cell_type": "code",
   "execution_count": 1,
   "metadata": {},
   "outputs": [],
   "source": [
    "import numpy as np\n",
    "import pandas as pd\n",
    "import matplotlib.pyplot as plt\n",
    "import seaborn as sns\n",
    "%matplotlib inline\n",
    "import xlrd"
   ]
  },
  {
   "cell_type": "code",
   "execution_count": 2,
   "metadata": {},
   "outputs": [
    {
     "data": {
      "text/html": [
       "<div>\n",
       "<style scoped>\n",
       "    .dataframe tbody tr th:only-of-type {\n",
       "        vertical-align: middle;\n",
       "    }\n",
       "\n",
       "    .dataframe tbody tr th {\n",
       "        vertical-align: top;\n",
       "    }\n",
       "\n",
       "    .dataframe thead th {\n",
       "        text-align: right;\n",
       "    }\n",
       "</style>\n",
       "<table border=\"1\" class=\"dataframe\">\n",
       "  <thead>\n",
       "    <tr style=\"text-align: right;\">\n",
       "      <th></th>\n",
       "      <th>show_id</th>\n",
       "      <th>type</th>\n",
       "      <th>title</th>\n",
       "      <th>director</th>\n",
       "      <th>cast</th>\n",
       "      <th>country</th>\n",
       "      <th>date_added</th>\n",
       "      <th>release_year</th>\n",
       "      <th>rating</th>\n",
       "      <th>duration</th>\n",
       "      <th>listed_in</th>\n",
       "      <th>description</th>\n",
       "    </tr>\n",
       "  </thead>\n",
       "  <tbody>\n",
       "    <tr>\n",
       "      <th>0</th>\n",
       "      <td>81145628</td>\n",
       "      <td>Movie</td>\n",
       "      <td>Norm of the North: King Sized Adventure</td>\n",
       "      <td>Richard Finn, Tim Maltby</td>\n",
       "      <td>Alan Marriott, Andrew Toth, Brian Dobson, Cole...</td>\n",
       "      <td>United States, India, South Korea, China</td>\n",
       "      <td>September 9, 2019</td>\n",
       "      <td>2019</td>\n",
       "      <td>TV-PG</td>\n",
       "      <td>90 min</td>\n",
       "      <td>Children &amp; Family Movies, Comedies</td>\n",
       "      <td>Before planning an awesome wedding for his gra...</td>\n",
       "    </tr>\n",
       "    <tr>\n",
       "      <th>1</th>\n",
       "      <td>80117401</td>\n",
       "      <td>Movie</td>\n",
       "      <td>Jandino: Whatever it Takes</td>\n",
       "      <td>NaN</td>\n",
       "      <td>Jandino Asporaat</td>\n",
       "      <td>United Kingdom</td>\n",
       "      <td>September 9, 2016</td>\n",
       "      <td>2016</td>\n",
       "      <td>TV-MA</td>\n",
       "      <td>94 min</td>\n",
       "      <td>Stand-Up Comedy</td>\n",
       "      <td>Jandino Asporaat riffs on the challenges of ra...</td>\n",
       "    </tr>\n",
       "    <tr>\n",
       "      <th>2</th>\n",
       "      <td>70234439</td>\n",
       "      <td>TV Show</td>\n",
       "      <td>Transformers Prime</td>\n",
       "      <td>NaN</td>\n",
       "      <td>Peter Cullen, Sumalee Montano, Frank Welker, J...</td>\n",
       "      <td>United States</td>\n",
       "      <td>September 8, 2018</td>\n",
       "      <td>2013</td>\n",
       "      <td>TV-Y7-FV</td>\n",
       "      <td>1 Season</td>\n",
       "      <td>Kids' TV</td>\n",
       "      <td>With the help of three human allies, the Autob...</td>\n",
       "    </tr>\n",
       "    <tr>\n",
       "      <th>3</th>\n",
       "      <td>80058654</td>\n",
       "      <td>TV Show</td>\n",
       "      <td>Transformers: Robots in Disguise</td>\n",
       "      <td>NaN</td>\n",
       "      <td>Will Friedle, Darren Criss, Constance Zimmer, ...</td>\n",
       "      <td>United States</td>\n",
       "      <td>September 8, 2018</td>\n",
       "      <td>2016</td>\n",
       "      <td>TV-Y7</td>\n",
       "      <td>1 Season</td>\n",
       "      <td>Kids' TV</td>\n",
       "      <td>When a prison ship crash unleashes hundreds of...</td>\n",
       "    </tr>\n",
       "    <tr>\n",
       "      <th>4</th>\n",
       "      <td>80125979</td>\n",
       "      <td>Movie</td>\n",
       "      <td>#realityhigh</td>\n",
       "      <td>Fernando Lebrija</td>\n",
       "      <td>Nesta Cooper, Kate Walsh, John Michael Higgins...</td>\n",
       "      <td>United States</td>\n",
       "      <td>September 8, 2017</td>\n",
       "      <td>2017</td>\n",
       "      <td>TV-14</td>\n",
       "      <td>99 min</td>\n",
       "      <td>Comedies</td>\n",
       "      <td>When nerdy high schooler Dani finally attracts...</td>\n",
       "    </tr>\n",
       "  </tbody>\n",
       "</table>\n",
       "</div>"
      ],
      "text/plain": [
       "    show_id     type                                    title  \\\n",
       "0  81145628    Movie  Norm of the North: King Sized Adventure   \n",
       "1  80117401    Movie               Jandino: Whatever it Takes   \n",
       "2  70234439  TV Show                       Transformers Prime   \n",
       "3  80058654  TV Show         Transformers: Robots in Disguise   \n",
       "4  80125979    Movie                             #realityhigh   \n",
       "\n",
       "                   director  \\\n",
       "0  Richard Finn, Tim Maltby   \n",
       "1                       NaN   \n",
       "2                       NaN   \n",
       "3                       NaN   \n",
       "4          Fernando Lebrija   \n",
       "\n",
       "                                                cast  \\\n",
       "0  Alan Marriott, Andrew Toth, Brian Dobson, Cole...   \n",
       "1                                   Jandino Asporaat   \n",
       "2  Peter Cullen, Sumalee Montano, Frank Welker, J...   \n",
       "3  Will Friedle, Darren Criss, Constance Zimmer, ...   \n",
       "4  Nesta Cooper, Kate Walsh, John Michael Higgins...   \n",
       "\n",
       "                                    country         date_added  release_year  \\\n",
       "0  United States, India, South Korea, China  September 9, 2019          2019   \n",
       "1                            United Kingdom  September 9, 2016          2016   \n",
       "2                             United States  September 8, 2018          2013   \n",
       "3                             United States  September 8, 2018          2016   \n",
       "4                             United States  September 8, 2017          2017   \n",
       "\n",
       "     rating  duration                           listed_in  \\\n",
       "0     TV-PG    90 min  Children & Family Movies, Comedies   \n",
       "1     TV-MA    94 min                     Stand-Up Comedy   \n",
       "2  TV-Y7-FV  1 Season                            Kids' TV   \n",
       "3     TV-Y7  1 Season                            Kids' TV   \n",
       "4     TV-14    99 min                            Comedies   \n",
       "\n",
       "                                         description  \n",
       "0  Before planning an awesome wedding for his gra...  \n",
       "1  Jandino Asporaat riffs on the challenges of ra...  \n",
       "2  With the help of three human allies, the Autob...  \n",
       "3  When a prison ship crash unleashes hundreds of...  \n",
       "4  When nerdy high schooler Dani finally attracts...  "
      ]
     },
     "execution_count": 2,
     "metadata": {},
     "output_type": "execute_result"
    }
   ],
   "source": [
    "titles = pd.read_csv('netflix_titles.csv')\n",
    "titles.head()"
   ]
  },
  {
   "cell_type": "markdown",
   "metadata": {},
   "source": [
    "## Basic Information"
   ]
  },
  {
   "cell_type": "code",
   "execution_count": 3,
   "metadata": {},
   "outputs": [
    {
     "name": "stdout",
     "output_type": "stream",
     "text": [
      "<class 'pandas.core.frame.DataFrame'>\n",
      "RangeIndex: 6234 entries, 0 to 6233\n",
      "Data columns (total 12 columns):\n",
      " #   Column        Non-Null Count  Dtype \n",
      "---  ------        --------------  ----- \n",
      " 0   show_id       6234 non-null   int64 \n",
      " 1   type          6234 non-null   object\n",
      " 2   title         6234 non-null   object\n",
      " 3   director      4265 non-null   object\n",
      " 4   cast          5664 non-null   object\n",
      " 5   country       5758 non-null   object\n",
      " 6   date_added    6223 non-null   object\n",
      " 7   release_year  6234 non-null   int64 \n",
      " 8   rating        6224 non-null   object\n",
      " 9   duration      6234 non-null   object\n",
      " 10  listed_in     6234 non-null   object\n",
      " 11  description   6234 non-null   object\n",
      "dtypes: int64(2), object(10)\n",
      "memory usage: 584.6+ KB\n"
     ]
    }
   ],
   "source": [
    "titles.info()"
   ]
  },
  {
   "cell_type": "code",
   "execution_count": 4,
   "metadata": {},
   "outputs": [
    {
     "data": {
      "text/plain": [
       "show_id         6234\n",
       "type               2\n",
       "title           6172\n",
       "director        3301\n",
       "cast            5469\n",
       "country          554\n",
       "date_added      1524\n",
       "release_year      72\n",
       "rating            14\n",
       "duration         201\n",
       "listed_in        461\n",
       "description     6226\n",
       "dtype: int64"
      ]
     },
     "execution_count": 4,
     "metadata": {},
     "output_type": "execute_result"
    }
   ],
   "source": [
    "titles.nunique()"
   ]
  },
  {
   "cell_type": "code",
   "execution_count": 5,
   "metadata": {},
   "outputs": [
    {
     "data": {
      "text/plain": [
       "Index(['show_id', 'type', 'title', 'director', 'cast', 'country', 'date_added',\n",
       "       'release_year', 'rating', 'duration', 'listed_in', 'description'],\n",
       "      dtype='object')"
      ]
     },
     "execution_count": 5,
     "metadata": {},
     "output_type": "execute_result"
    }
   ],
   "source": [
    "titles.columns"
   ]
  },
  {
   "cell_type": "markdown",
   "metadata": {},
   "source": [
    "## Data Transformation"
   ]
  },
  {
   "cell_type": "markdown",
   "metadata": {},
   "source": [
    "Enforcing data types"
   ]
  },
  {
   "cell_type": "code",
   "execution_count": 6,
   "metadata": {
    "scrolled": true
   },
   "outputs": [
    {
     "data": {
      "text/plain": [
       "show_id          int64\n",
       "type            object\n",
       "title           object\n",
       "director        object\n",
       "cast            object\n",
       "country         object\n",
       "date_added      object\n",
       "release_year     int64\n",
       "rating          object\n",
       "duration        object\n",
       "listed_in       object\n",
       "description     object\n",
       "dtype: object"
      ]
     },
     "execution_count": 6,
     "metadata": {},
     "output_type": "execute_result"
    }
   ],
   "source": [
    "titles.dtypes"
   ]
  },
  {
   "cell_type": "markdown",
   "metadata": {},
   "source": [
    "The column \"date_added\" is not a datetime. I convert its values into dates:"
   ]
  },
  {
   "cell_type": "code",
   "execution_count": 7,
   "metadata": {},
   "outputs": [],
   "source": [
    "titles['date_added'] = pd.to_datetime(titles['date_added'])"
   ]
  },
  {
   "cell_type": "code",
   "execution_count": 8,
   "metadata": {},
   "outputs": [
    {
     "data": {
      "text/plain": [
       "show_id                  int64\n",
       "type                    object\n",
       "title                   object\n",
       "director                object\n",
       "cast                    object\n",
       "country                 object\n",
       "date_added      datetime64[ns]\n",
       "release_year             int64\n",
       "rating                  object\n",
       "duration                object\n",
       "listed_in               object\n",
       "description             object\n",
       "dtype: object"
      ]
     },
     "execution_count": 8,
     "metadata": {},
     "output_type": "execute_result"
    }
   ],
   "source": [
    "titles.dtypes"
   ]
  },
  {
   "cell_type": "code",
   "execution_count": 9,
   "metadata": {},
   "outputs": [
    {
     "data": {
      "text/html": [
       "<div>\n",
       "<style scoped>\n",
       "    .dataframe tbody tr th:only-of-type {\n",
       "        vertical-align: middle;\n",
       "    }\n",
       "\n",
       "    .dataframe tbody tr th {\n",
       "        vertical-align: top;\n",
       "    }\n",
       "\n",
       "    .dataframe thead th {\n",
       "        text-align: right;\n",
       "    }\n",
       "</style>\n",
       "<table border=\"1\" class=\"dataframe\">\n",
       "  <thead>\n",
       "    <tr style=\"text-align: right;\">\n",
       "      <th></th>\n",
       "      <th>INDICATOR</th>\n",
       "      <th>Indicator</th>\n",
       "      <th>LOCATION</th>\n",
       "      <th>Country</th>\n",
       "      <th>TIME</th>\n",
       "      <th>Time</th>\n",
       "      <th>Value</th>\n",
       "      <th>Flag Codes</th>\n",
       "      <th>Flags</th>\n",
       "    </tr>\n",
       "  </thead>\n",
       "  <tbody>\n",
       "    <tr>\n",
       "      <th>0</th>\n",
       "      <td>220006</td>\n",
       "      <td>Total number of national feature films produced</td>\n",
       "      <td>AUS</td>\n",
       "      <td>Australia</td>\n",
       "      <td>2011</td>\n",
       "      <td>2011</td>\n",
       "      <td>43.0</td>\n",
       "      <td>NaN</td>\n",
       "      <td>NaN</td>\n",
       "    </tr>\n",
       "    <tr>\n",
       "      <th>1</th>\n",
       "      <td>220006</td>\n",
       "      <td>Total number of national feature films produced</td>\n",
       "      <td>AUS</td>\n",
       "      <td>Australia</td>\n",
       "      <td>2012</td>\n",
       "      <td>2012</td>\n",
       "      <td>29.0</td>\n",
       "      <td>NaN</td>\n",
       "      <td>NaN</td>\n",
       "    </tr>\n",
       "    <tr>\n",
       "      <th>2</th>\n",
       "      <td>220006</td>\n",
       "      <td>Total number of national feature films produced</td>\n",
       "      <td>AUS</td>\n",
       "      <td>Australia</td>\n",
       "      <td>2013</td>\n",
       "      <td>2013</td>\n",
       "      <td>26.0</td>\n",
       "      <td>NaN</td>\n",
       "      <td>NaN</td>\n",
       "    </tr>\n",
       "    <tr>\n",
       "      <th>3</th>\n",
       "      <td>220006</td>\n",
       "      <td>Total number of national feature films produced</td>\n",
       "      <td>AUS</td>\n",
       "      <td>Australia</td>\n",
       "      <td>2014</td>\n",
       "      <td>2014</td>\n",
       "      <td>39.0</td>\n",
       "      <td>NaN</td>\n",
       "      <td>NaN</td>\n",
       "    </tr>\n",
       "    <tr>\n",
       "      <th>4</th>\n",
       "      <td>220006</td>\n",
       "      <td>Total number of national feature films produced</td>\n",
       "      <td>AUS</td>\n",
       "      <td>Australia</td>\n",
       "      <td>2015</td>\n",
       "      <td>2015</td>\n",
       "      <td>33.0</td>\n",
       "      <td>NaN</td>\n",
       "      <td>NaN</td>\n",
       "    </tr>\n",
       "    <tr>\n",
       "      <th>...</th>\n",
       "      <td>...</td>\n",
       "      <td>...</td>\n",
       "      <td>...</td>\n",
       "      <td>...</td>\n",
       "      <td>...</td>\n",
       "      <td>...</td>\n",
       "      <td>...</td>\n",
       "      <td>...</td>\n",
       "      <td>...</td>\n",
       "    </tr>\n",
       "    <tr>\n",
       "      <th>1762</th>\n",
       "      <td>220170</td>\n",
       "      <td>Number of national feature films shot digitally</td>\n",
       "      <td>FJI</td>\n",
       "      <td>Fiji</td>\n",
       "      <td>2017</td>\n",
       "      <td>2017</td>\n",
       "      <td>NaN</td>\n",
       "      <td>n</td>\n",
       "      <td>Magnitude nil or negligible</td>\n",
       "    </tr>\n",
       "    <tr>\n",
       "      <th>1763</th>\n",
       "      <td>220171</td>\n",
       "      <td>Number of national feature films not shot digi...</td>\n",
       "      <td>FJI</td>\n",
       "      <td>Fiji</td>\n",
       "      <td>2016</td>\n",
       "      <td>2016</td>\n",
       "      <td>NaN</td>\n",
       "      <td>n</td>\n",
       "      <td>Magnitude nil or negligible</td>\n",
       "    </tr>\n",
       "    <tr>\n",
       "      <th>1764</th>\n",
       "      <td>220171</td>\n",
       "      <td>Number of national feature films not shot digi...</td>\n",
       "      <td>FJI</td>\n",
       "      <td>Fiji</td>\n",
       "      <td>2017</td>\n",
       "      <td>2017</td>\n",
       "      <td>NaN</td>\n",
       "      <td>n</td>\n",
       "      <td>Magnitude nil or negligible</td>\n",
       "    </tr>\n",
       "    <tr>\n",
       "      <th>1765</th>\n",
       "      <td>FPFPROD_NADIG</td>\n",
       "      <td>Percentage of national feature films that are ...</td>\n",
       "      <td>FJI</td>\n",
       "      <td>Fiji</td>\n",
       "      <td>2016</td>\n",
       "      <td>2016</td>\n",
       "      <td>NaN</td>\n",
       "      <td>a</td>\n",
       "      <td>Category not applicable</td>\n",
       "    </tr>\n",
       "    <tr>\n",
       "      <th>1766</th>\n",
       "      <td>FPFPROD_NADIG</td>\n",
       "      <td>Percentage of national feature films that are ...</td>\n",
       "      <td>FJI</td>\n",
       "      <td>Fiji</td>\n",
       "      <td>2017</td>\n",
       "      <td>2017</td>\n",
       "      <td>NaN</td>\n",
       "      <td>a</td>\n",
       "      <td>Category not applicable</td>\n",
       "    </tr>\n",
       "  </tbody>\n",
       "</table>\n",
       "<p>1767 rows × 9 columns</p>\n",
       "</div>"
      ],
      "text/plain": [
       "          INDICATOR                                          Indicator  \\\n",
       "0            220006    Total number of national feature films produced   \n",
       "1            220006    Total number of national feature films produced   \n",
       "2            220006    Total number of national feature films produced   \n",
       "3            220006    Total number of national feature films produced   \n",
       "4            220006    Total number of national feature films produced   \n",
       "...             ...                                                ...   \n",
       "1762         220170    Number of national feature films shot digitally   \n",
       "1763         220171  Number of national feature films not shot digi...   \n",
       "1764         220171  Number of national feature films not shot digi...   \n",
       "1765  FPFPROD_NADIG  Percentage of national feature films that are ...   \n",
       "1766  FPFPROD_NADIG  Percentage of national feature films that are ...   \n",
       "\n",
       "     LOCATION    Country  TIME  Time  Value Flag Codes  \\\n",
       "0         AUS  Australia  2011  2011   43.0        NaN   \n",
       "1         AUS  Australia  2012  2012   29.0        NaN   \n",
       "2         AUS  Australia  2013  2013   26.0        NaN   \n",
       "3         AUS  Australia  2014  2014   39.0        NaN   \n",
       "4         AUS  Australia  2015  2015   33.0        NaN   \n",
       "...       ...        ...   ...   ...    ...        ...   \n",
       "1762      FJI       Fiji  2017  2017    NaN          n   \n",
       "1763      FJI       Fiji  2016  2016    NaN          n   \n",
       "1764      FJI       Fiji  2017  2017    NaN          n   \n",
       "1765      FJI       Fiji  2016  2016    NaN          a   \n",
       "1766      FJI       Fiji  2017  2017    NaN          a   \n",
       "\n",
       "                            Flags  \n",
       "0                             NaN  \n",
       "1                             NaN  \n",
       "2                             NaN  \n",
       "3                             NaN  \n",
       "4                             NaN  \n",
       "...                           ...  \n",
       "1762  Magnitude nil or negligible  \n",
       "1763  Magnitude nil or negligible  \n",
       "1764  Magnitude nil or negligible  \n",
       "1765      Category not applicable  \n",
       "1766      Category not applicable  \n",
       "\n",
       "[1767 rows x 9 columns]"
      ]
     },
     "execution_count": 9,
     "metadata": {},
     "output_type": "execute_result"
    }
   ],
   "source": [
    "data = pd.read_csv('CUL_DS_12122020171930981.csv')\n",
    "data"
   ]
  },
  {
   "cell_type": "code",
   "execution_count": 10,
   "metadata": {},
   "outputs": [
    {
     "data": {
      "text/plain": [
       "Index(['INDICATOR', 'Indicator', 'LOCATION', 'Country', 'TIME', 'Time',\n",
       "       'Value', 'Flag Codes', 'Flags'],\n",
       "      dtype='object')"
      ]
     },
     "execution_count": 10,
     "metadata": {},
     "output_type": "execute_result"
    }
   ],
   "source": [
    "data.columns"
   ]
  },
  {
   "cell_type": "code",
   "execution_count": 11,
   "metadata": {},
   "outputs": [],
   "source": [
    "time_use = pd.read_excel('Time-Use-in-OECD-Countries-OECD.xlsx')"
   ]
  },
  {
   "cell_type": "code",
   "execution_count": 12,
   "metadata": {},
   "outputs": [
    {
     "data": {
      "text/html": [
       "<div>\n",
       "<style scoped>\n",
       "    .dataframe tbody tr th:only-of-type {\n",
       "        vertical-align: middle;\n",
       "    }\n",
       "\n",
       "    .dataframe tbody tr th {\n",
       "        vertical-align: top;\n",
       "    }\n",
       "\n",
       "    .dataframe thead th {\n",
       "        text-align: right;\n",
       "    }\n",
       "</style>\n",
       "<table border=\"1\" class=\"dataframe\">\n",
       "  <thead>\n",
       "    <tr style=\"text-align: right;\">\n",
       "      <th></th>\n",
       "      <th>Country</th>\n",
       "      <th>Category</th>\n",
       "      <th>Time (minutes)</th>\n",
       "    </tr>\n",
       "  </thead>\n",
       "  <tbody>\n",
       "    <tr>\n",
       "      <th>0</th>\n",
       "      <td>Australia</td>\n",
       "      <td>Paid work</td>\n",
       "      <td>211.146630</td>\n",
       "    </tr>\n",
       "    <tr>\n",
       "      <th>1</th>\n",
       "      <td>Austria</td>\n",
       "      <td>Paid work</td>\n",
       "      <td>279.532268</td>\n",
       "    </tr>\n",
       "    <tr>\n",
       "      <th>2</th>\n",
       "      <td>Belgium</td>\n",
       "      <td>Paid work</td>\n",
       "      <td>194.476452</td>\n",
       "    </tr>\n",
       "    <tr>\n",
       "      <th>3</th>\n",
       "      <td>Canada</td>\n",
       "      <td>Paid work</td>\n",
       "      <td>268.660610</td>\n",
       "    </tr>\n",
       "    <tr>\n",
       "      <th>4</th>\n",
       "      <td>Denmark</td>\n",
       "      <td>Paid work</td>\n",
       "      <td>199.771596</td>\n",
       "    </tr>\n",
       "    <tr>\n",
       "      <th>...</th>\n",
       "      <td>...</td>\n",
       "      <td>...</td>\n",
       "      <td>...</td>\n",
       "    </tr>\n",
       "    <tr>\n",
       "      <th>456</th>\n",
       "      <td>UK</td>\n",
       "      <td>Other leisure activities</td>\n",
       "      <td>98.407710</td>\n",
       "    </tr>\n",
       "    <tr>\n",
       "      <th>457</th>\n",
       "      <td>USA</td>\n",
       "      <td>Other leisure activities</td>\n",
       "      <td>73.490920</td>\n",
       "    </tr>\n",
       "    <tr>\n",
       "      <th>458</th>\n",
       "      <td>China</td>\n",
       "      <td>Other leisure activities</td>\n",
       "      <td>52.963220</td>\n",
       "    </tr>\n",
       "    <tr>\n",
       "      <th>459</th>\n",
       "      <td>India</td>\n",
       "      <td>Other leisure activities</td>\n",
       "      <td>109.193439</td>\n",
       "    </tr>\n",
       "    <tr>\n",
       "      <th>460</th>\n",
       "      <td>South Africa</td>\n",
       "      <td>Other leisure activities</td>\n",
       "      <td>81.824600</td>\n",
       "    </tr>\n",
       "  </tbody>\n",
       "</table>\n",
       "<p>461 rows × 3 columns</p>\n",
       "</div>"
      ],
      "text/plain": [
       "          Country                  Category  Time (minutes)\n",
       "0       Australia                 Paid work      211.146630\n",
       "1         Austria                 Paid work      279.532268\n",
       "2         Belgium                 Paid work      194.476452\n",
       "3          Canada                 Paid work      268.660610\n",
       "4         Denmark                 Paid work      199.771596\n",
       "..            ...                       ...             ...\n",
       "456            UK  Other leisure activities       98.407710\n",
       "457           USA  Other leisure activities       73.490920\n",
       "458         China  Other leisure activities       52.963220\n",
       "459         India  Other leisure activities      109.193439\n",
       "460  South Africa  Other leisure activities       81.824600\n",
       "\n",
       "[461 rows x 3 columns]"
      ]
     },
     "execution_count": 12,
     "metadata": {},
     "output_type": "execute_result"
    }
   ],
   "source": [
    "time_use"
   ]
  },
  {
   "cell_type": "code",
   "execution_count": 13,
   "metadata": {},
   "outputs": [
    {
     "name": "stdout",
     "output_type": "stream",
     "text": [
      "<class 'pandas.core.frame.DataFrame'>\n",
      "RangeIndex: 461 entries, 0 to 460\n",
      "Data columns (total 3 columns):\n",
      " #   Column          Non-Null Count  Dtype  \n",
      "---  ------          --------------  -----  \n",
      " 0   Country         461 non-null    object \n",
      " 1   Category        461 non-null    object \n",
      " 2   Time (minutes)  461 non-null    float64\n",
      "dtypes: float64(1), object(2)\n",
      "memory usage: 10.9+ KB\n"
     ]
    }
   ],
   "source": [
    "time_use.info()"
   ]
  },
  {
   "cell_type": "code",
   "execution_count": 14,
   "metadata": {},
   "outputs": [
    {
     "data": {
      "text/plain": [
       "array(['Paid work', 'Education', 'Care for household members ',\n",
       "       'Housework', 'Shopping', 'Other unpaid work & volunteering',\n",
       "       'Sleep', 'Eating and drinking', 'Personal care', 'Sports',\n",
       "       'Attending events', 'Seeing friends', 'TV and Radio',\n",
       "       'Other leisure activities'], dtype=object)"
      ]
     },
     "execution_count": 14,
     "metadata": {},
     "output_type": "execute_result"
    }
   ],
   "source": [
    "time_use.Category.unique()"
   ]
  },
  {
   "cell_type": "markdown",
   "metadata": {},
   "source": [
    "## Exploratory Analysis and Visualization"
   ]
  },
  {
   "cell_type": "markdown",
   "metadata": {},
   "source": [
    "I will now visualize the above data into various graphs and charts for a better understanding of trends."
   ]
  },
  {
   "cell_type": "code",
   "execution_count": 15,
   "metadata": {},
   "outputs": [],
   "source": [
    "#one scatter plot type of data display that shows the relationship between two numerical variables"
   ]
  },
  {
   "cell_type": "code",
   "execution_count": 16,
   "metadata": {},
   "outputs": [],
   "source": [
    "#one histogram A frequency distribution shows how often each different value in a set of data occurs. A histogram is the most commonly used graph to show frequency distributions."
   ]
  },
  {
   "cell_type": "code",
   "execution_count": 17,
   "metadata": {},
   "outputs": [],
   "source": [
    "#one box plot"
   ]
  },
  {
   "cell_type": "markdown",
   "metadata": {},
   "source": [
    "**Most number of titles produced per country**"
   ]
  },
  {
   "cell_type": "code",
   "execution_count": 25,
   "metadata": {
    "scrolled": false
   },
   "outputs": [
    {
     "data": {
      "text/html": [
       "<div>\n",
       "<style scoped>\n",
       "    .dataframe tbody tr th:only-of-type {\n",
       "        vertical-align: middle;\n",
       "    }\n",
       "\n",
       "    .dataframe tbody tr th {\n",
       "        vertical-align: top;\n",
       "    }\n",
       "\n",
       "    .dataframe thead th {\n",
       "        text-align: right;\n",
       "    }\n",
       "</style>\n",
       "<table border=\"1\" class=\"dataframe\">\n",
       "  <thead>\n",
       "    <tr style=\"text-align: right;\">\n",
       "      <th></th>\n",
       "      <th>country</th>\n",
       "      <th>show_id</th>\n",
       "      <th>type</th>\n",
       "      <th>title</th>\n",
       "      <th>director</th>\n",
       "      <th>cast</th>\n",
       "      <th>date_added</th>\n",
       "      <th>release_year</th>\n",
       "      <th>rating</th>\n",
       "      <th>duration</th>\n",
       "      <th>listed_in</th>\n",
       "      <th>description</th>\n",
       "    </tr>\n",
       "  </thead>\n",
       "  <tbody>\n",
       "    <tr>\n",
       "      <th>0</th>\n",
       "      <td>United States</td>\n",
       "      <td>2032</td>\n",
       "      <td>2032</td>\n",
       "      <td>2032</td>\n",
       "      <td>1475</td>\n",
       "      <td>1808</td>\n",
       "      <td>2026</td>\n",
       "      <td>2032</td>\n",
       "      <td>2029</td>\n",
       "      <td>2032</td>\n",
       "      <td>2032</td>\n",
       "      <td>2032</td>\n",
       "    </tr>\n",
       "    <tr>\n",
       "      <th>1</th>\n",
       "      <td>India</td>\n",
       "      <td>777</td>\n",
       "      <td>777</td>\n",
       "      <td>777</td>\n",
       "      <td>721</td>\n",
       "      <td>755</td>\n",
       "      <td>777</td>\n",
       "      <td>777</td>\n",
       "      <td>777</td>\n",
       "      <td>777</td>\n",
       "      <td>777</td>\n",
       "      <td>777</td>\n",
       "    </tr>\n",
       "    <tr>\n",
       "      <th>2</th>\n",
       "      <td>United Kingdom</td>\n",
       "      <td>348</td>\n",
       "      <td>348</td>\n",
       "      <td>348</td>\n",
       "      <td>175</td>\n",
       "      <td>291</td>\n",
       "      <td>347</td>\n",
       "      <td>348</td>\n",
       "      <td>348</td>\n",
       "      <td>348</td>\n",
       "      <td>348</td>\n",
       "      <td>348</td>\n",
       "    </tr>\n",
       "    <tr>\n",
       "      <th>3</th>\n",
       "      <td>Japan</td>\n",
       "      <td>176</td>\n",
       "      <td>176</td>\n",
       "      <td>176</td>\n",
       "      <td>55</td>\n",
       "      <td>174</td>\n",
       "      <td>175</td>\n",
       "      <td>176</td>\n",
       "      <td>175</td>\n",
       "      <td>176</td>\n",
       "      <td>176</td>\n",
       "      <td>176</td>\n",
       "    </tr>\n",
       "    <tr>\n",
       "      <th>4</th>\n",
       "      <td>Canada</td>\n",
       "      <td>141</td>\n",
       "      <td>141</td>\n",
       "      <td>141</td>\n",
       "      <td>88</td>\n",
       "      <td>125</td>\n",
       "      <td>141</td>\n",
       "      <td>141</td>\n",
       "      <td>141</td>\n",
       "      <td>141</td>\n",
       "      <td>141</td>\n",
       "      <td>141</td>\n",
       "    </tr>\n",
       "    <tr>\n",
       "      <th>5</th>\n",
       "      <td>South Korea</td>\n",
       "      <td>136</td>\n",
       "      <td>136</td>\n",
       "      <td>136</td>\n",
       "      <td>39</td>\n",
       "      <td>133</td>\n",
       "      <td>136</td>\n",
       "      <td>136</td>\n",
       "      <td>136</td>\n",
       "      <td>136</td>\n",
       "      <td>136</td>\n",
       "      <td>136</td>\n",
       "    </tr>\n",
       "    <tr>\n",
       "      <th>6</th>\n",
       "      <td>Spain</td>\n",
       "      <td>117</td>\n",
       "      <td>117</td>\n",
       "      <td>117</td>\n",
       "      <td>83</td>\n",
       "      <td>103</td>\n",
       "      <td>117</td>\n",
       "      <td>117</td>\n",
       "      <td>117</td>\n",
       "      <td>117</td>\n",
       "      <td>117</td>\n",
       "      <td>117</td>\n",
       "    </tr>\n",
       "    <tr>\n",
       "      <th>7</th>\n",
       "      <td>France</td>\n",
       "      <td>90</td>\n",
       "      <td>90</td>\n",
       "      <td>90</td>\n",
       "      <td>51</td>\n",
       "      <td>77</td>\n",
       "      <td>90</td>\n",
       "      <td>90</td>\n",
       "      <td>90</td>\n",
       "      <td>90</td>\n",
       "      <td>90</td>\n",
       "      <td>90</td>\n",
       "    </tr>\n",
       "    <tr>\n",
       "      <th>8</th>\n",
       "      <td>Mexico</td>\n",
       "      <td>83</td>\n",
       "      <td>83</td>\n",
       "      <td>83</td>\n",
       "      <td>55</td>\n",
       "      <td>78</td>\n",
       "      <td>83</td>\n",
       "      <td>83</td>\n",
       "      <td>83</td>\n",
       "      <td>83</td>\n",
       "      <td>83</td>\n",
       "      <td>83</td>\n",
       "    </tr>\n",
       "    <tr>\n",
       "      <th>9</th>\n",
       "      <td>Turkey</td>\n",
       "      <td>79</td>\n",
       "      <td>79</td>\n",
       "      <td>79</td>\n",
       "      <td>60</td>\n",
       "      <td>79</td>\n",
       "      <td>79</td>\n",
       "      <td>79</td>\n",
       "      <td>79</td>\n",
       "      <td>79</td>\n",
       "      <td>79</td>\n",
       "      <td>79</td>\n",
       "    </tr>\n",
       "  </tbody>\n",
       "</table>\n",
       "</div>"
      ],
      "text/plain": [
       "          country  show_id  type  title  director  cast  date_added  \\\n",
       "0   United States     2032  2032   2032      1475  1808        2026   \n",
       "1           India      777   777    777       721   755         777   \n",
       "2  United Kingdom      348   348    348       175   291         347   \n",
       "3           Japan      176   176    176        55   174         175   \n",
       "4          Canada      141   141    141        88   125         141   \n",
       "5     South Korea      136   136    136        39   133         136   \n",
       "6           Spain      117   117    117        83   103         117   \n",
       "7          France       90    90     90        51    77          90   \n",
       "8          Mexico       83    83     83        55    78          83   \n",
       "9          Turkey       79    79     79        60    79          79   \n",
       "\n",
       "   release_year  rating  duration  listed_in  description  \n",
       "0          2032    2029      2032       2032         2032  \n",
       "1           777     777       777        777          777  \n",
       "2           348     348       348        348          348  \n",
       "3           176     175       176        176          176  \n",
       "4           141     141       141        141          141  \n",
       "5           136     136       136        136          136  \n",
       "6           117     117       117        117          117  \n",
       "7            90      90        90         90           90  \n",
       "8            83      83        83         83           83  \n",
       "9            79      79        79         79           79  "
      ]
     },
     "execution_count": 25,
     "metadata": {},
     "output_type": "execute_result"
    }
   ],
   "source": [
    "#bar graph\n",
    "most_titles_produced = titles.groupby('country').count().sort_values('title',ascending=False).head(10)\n",
    "\n",
    "most_titles_produced.reset_index(inplace=True)\n",
    "most_titles_produced"
   ]
  },
  {
   "cell_type": "code",
   "execution_count": 60,
   "metadata": {},
   "outputs": [
    {
     "data": {
      "image/png": "[encoded data removed]",
      "text/plain": [
       "<Figure size 1440x432 with 1 Axes>"
      ]
     },
     "metadata": {
      "needs_background": "light"
     },
     "output_type": "display_data"
    }
   ],
   "source": [
    "from matplotlib import gridspec\n",
    "\n",
    "fig = plt.figure(figsize=(20, 6))\n",
    "gs = gridspec.GridSpec(nrows=1, ncols=2, height_ratios=[6], width_ratios=[10, 5])\n",
    "\n",
    "ax = plt.subplot(gs[0])\n",
    "\n",
    "sns.barplot(x=most_titles_produced.country, y=most_titles_produced.title, data=most_titles_produced, palette=\"RdGy\")\n",
    "#hue colors: Movies and TV\n",
    "\n",
    "ax.set_xticklabels(most_titles_produced.country, fontweight='bold', rotation='90')\n",
    "ax.set_title('Top 10 producing countries', fontsize=15, fontweight='bold');"
   ]
  },
  {
   "cell_type": "code",
   "execution_count": 62,
   "metadata": {},
   "outputs": [
    {
     "data": {
      "image/png": "[encoded data removed]",
      "text/plain": [
       "<Figure size 1440x432 with 1 Axes>"
      ]
     },
     "metadata": {},
     "output_type": "display_data"
    }
   ],
   "source": [
    "fig = plt.figure(figsize=(20, 6))\n",
    "gs = gridspec.GridSpec(nrows=1, ncols=2, height_ratios=[6], width_ratios=[10, 5])\n",
    "\n",
    "explode = [0 for _ in range(10)]\n",
    "explode[0] = 0.06\n",
    "\n",
    "ax2 = plt.subplot(gs[1])\n",
    "\n",
    "labels = most_titles_produced.country\n",
    "sizes = most_titles_produced.title\n",
    "\n",
    "ax2.pie(sizes, labels=labels, shadow=True, startangle=0, autopct ='% 1.1f %%', colors=sns.color_palette(\"RdGy\", n_colors=10))\n",
    "ax2.axis('equal')\n",
    "\n",
    "ax2.set_title('Top 10 producing countries', fontsize=15, fontweight='bold')\n",
    "plt.legend(labels, loc =\"right\");"
   ]
  },
  {
   "cell_type": "markdown",
   "metadata": {},
   "source": [
    "Both bar and pie plot show that the USA clearly produces more than 50% of all titles."
   ]
  },
  {
   "cell_type": "code",
   "execution_count": 21,
   "metadata": {},
   "outputs": [],
   "source": [
    "# Making figures nicer for PPT"
   ]
  },
  {
   "cell_type": "markdown",
   "metadata": {},
   "source": [
    "# Sources"
   ]
  },
  {
   "cell_type": "markdown",
   "metadata": {},
   "source": [
    "https://www.kaggle.com/shivamb/netflix-shows\n",
    "https://stats.oecd.org/Index.aspx?DataSetCode=TIME_USE"
   ]
  }
 ],
 "metadata": {
  "kernelspec": {
   "display_name": "Python 3",
   "language": "python",
   "name": "python3"
  },
  "language_info": {
   "codemirror_mode": {
    "name": "ipython",
    "version": 3
   },
   "file_extension": ".py",
   "mimetype": "text/x-python",
   "name": "python",
   "nbconvert_exporter": "python",
   "pygments_lexer": "ipython3",
   "version": "3.7.9"
  }
 },
 "nbformat": 4,
 "nbformat_minor": 4
}
